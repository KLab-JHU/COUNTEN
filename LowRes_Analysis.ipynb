{
 "cells": [
  {
   "cell_type": "markdown",
   "metadata": {},
   "source": [
    "### COUNTEN Clustering\n",
    "\n",
    "1 - Enter path to image\n",
    "\n",
    "2 - Enter path to file containing scripts\n",
    "\n",
    "3 - Enter pixel density of the image (pixels/micrometer)\n",
    "\n",
    "4 - Enter sigma to adjust how much smoothing of the image is needed (more background noise requires higher sigma value)\n",
    "\n",
    "5 - Enter min_samples, the minimum number of neurons in ganglion"
   ]
  },
  {
   "cell_type": "code",
   "execution_count": null,
   "metadata": {},
   "outputs": [],
   "source": [
    "neuron_image_path = \"/home/klab/Pictures/inputimages/hucdEN/1128.tif\"\n",
    "output_path = \"/home/klab/Desktop/\"\n",
    "script_path = '/home/klab/Desktop/ENCOUNTER/scripts'\n",
    "pixel_density = 3.2\n",
    "sigma = 3\n",
    "min_samples = 3"
   ]
  },
  {
   "cell_type": "code",
   "execution_count": null,
   "metadata": {},
   "outputs": [],
   "source": [
    "%load_ext autoreload\n",
    "%autoreload 2\n",
    "%reload_ext autoreload\n",
    "\n",
    "import warnings\n",
    "warnings.filterwarnings('ignore')\n",
    "\n",
    "import os\n",
    "os.chdir(script_path)\n",
    "\n",
    "from scripts import *\n",
    "\n",
    "import javabridge\n",
    "import bioformats\n",
    "javabridge.start_vm(class_path=bioformats.JARS)\n",
    "\n",
    "import matplotlib.pyplot as plt\n",
    "plt.rcParams['figure.figsize'] = 10,10\n",
    "plt.rcParams['image.interpolation'] = 'nearest'\n",
    "plt.rcParams['image.cmap'] = 'gray'\n",
    "\n",
    "neurons, directory, meta = io.load_TIFF(neuron_image_path, output_path)\n",
    "\n",
    "javabridge.kill_vm()"
   ]
  },
  {
   "cell_type": "markdown",
   "metadata": {},
   "source": [
    "### Run to display image"
   ]
  },
  {
   "cell_type": "code",
   "execution_count": null,
   "metadata": {
    "scrolled": false
   },
   "outputs": [],
   "source": [
    "plt.imshow(neurons)\n",
    "plt.axis('off')"
   ]
  },
  {
   "cell_type": "markdown",
   "metadata": {},
   "source": [
    "### Run to process image"
   ]
  },
  {
   "cell_type": "code",
   "execution_count": null,
   "metadata": {
    "scrolled": true
   },
   "outputs": [],
   "source": [
    "local_maxi, labels, gauss = processing.wide_clusters(neurons, \n",
    "                                                sigma=sigma, \n",
    "                                                pixel_density=pixel_density,\n",
    "                                                min_samples=min_samples)\n",
    "\n",
    "del neurons \n",
    "ganglion_prop = processing.segmentation(gauss, local_maxi, labels, meta, directory, save = True)\n",
    "del gauss"
   ]
  },
  {
   "cell_type": "markdown",
   "metadata": {},
   "source": [
    "### Run to display dataframe "
   ]
  },
  {
   "cell_type": "code",
   "execution_count": null,
   "metadata": {
    "scrolled": true
   },
   "outputs": [],
   "source": [
    "df, dist = analysis.create_dataframe(ganglion_prop, labels, local_maxi, meta, directory, save=True)\n",
    "df"
   ]
  },
  {
   "cell_type": "code",
   "execution_count": null,
   "metadata": {},
   "outputs": [],
   "source": []
  },
  {
   "cell_type": "code",
   "execution_count": null,
   "metadata": {},
   "outputs": [],
   "source": []
  }
 ],
 "metadata": {
  "kernelspec": {
   "display_name": "Python 3",
   "language": "python",
   "name": "python3"
  },
  "language_info": {
   "codemirror_mode": {
    "name": "ipython",
    "version": 3
   },
   "file_extension": ".py",
   "mimetype": "text/x-python",
   "name": "python",
   "nbconvert_exporter": "python",
   "pygments_lexer": "ipython3",
   "version": "3.8.2"
  }
 },
 "nbformat": 4,
 "nbformat_minor": 2
}
